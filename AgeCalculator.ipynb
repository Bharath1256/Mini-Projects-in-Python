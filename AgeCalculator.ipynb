{
 "cells": [
  {
   "cell_type": "code",
   "execution_count": 2,
   "id": "c297be1e",
   "metadata": {},
   "outputs": [
    {
     "name": "stdout",
     "output_type": "stream",
     "text": [
      "31\n"
     ]
    }
   ],
   "source": [
    "def ageCalculator(y,m,d):\n",
    "    \n",
    "    import datetime\n",
    "    \n",
    "    today = datetime.datetime.now().date()\n",
    "    dob = datetime.date(y,m,d)\n",
    "    age = int((today-dob).days/365.25)\n",
    "    print(age)\n",
    "\n",
    "\n",
    "    \n",
    "    \n",
    "    ageCalculator(1994,7,8)"
   ]
  }
 ],
 "metadata": {
  "kernelspec": {
   "display_name": "Python 3 (ipykernel)",
   "language": "python",
   "name": "python3"
  },
  "language_info": {
   "codemirror_mode": {
    "name": "ipython",
    "version": 3
   },
   "file_extension": ".py",
   "mimetype": "text/x-python",
   "name": "python",
   "nbconvert_exporter": "python",
   "pygments_lexer": "ipython3",
   "version": "3.10.9"
  }
 },
 "nbformat": 4,
 "nbformat_minor": 5
}
