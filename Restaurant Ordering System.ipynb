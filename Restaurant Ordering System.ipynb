{
 "cells": [
  {
   "cell_type": "code",
   "execution_count": 1,
   "id": "13f113f3",
   "metadata": {},
   "outputs": [
    {
     "name": "stdout",
     "output_type": "stream",
     "text": [
      "Welcome To The Self-Service\n",
      "Dosa: Rs. 40\n",
      "Idli:Rs. 30\n",
      "Chapathi: Rs. 45\n",
      "Tea: Rs. 20\n",
      "Coffee: Rs.25\n"
     ]
    }
   ],
   "source": [
    "menu = {'Dosa':40, 'Idli':30, 'Chapathi':45, 'Tea':20, 'Coffee':25}\n",
    "\n",
    "print(\"Welcome To The Self-Service\")\n",
    "print(\"Dosa: Rs. 40\\nIdli:Rs. 30\\nChapathi: Rs. 45\\nTea: Rs. 20\\nCoffee: Rs.25\")"
   ]
  },
  {
   "cell_type": "code",
   "execution_count": 3,
   "id": "e110e591",
   "metadata": {},
   "outputs": [
    {
     "name": "stdout",
     "output_type": "stream",
     "text": [
      "Welcome To The Self-Service\n",
      "Dosa: Rs. 40\n",
      "Idli:Rs. 30\n",
      "Chapathi: Rs. 45\n",
      "Tea: Rs. 20\n",
      "Coffee: Rs.25\n",
      "Enter your item to order: Dosa\n",
      "Your item Dosa has been added to your order\n"
     ]
    }
   ],
   "source": [
    "menu = {'Dosa':40, 'Idli':30, 'Chapathi':45, 'Tea':20, 'Coffee':25}\n",
    "\n",
    "print(\"Welcome To The Self-Service\")\n",
    "print(\"Dosa: Rs. 40\\nIdli:Rs. 30\\nChapathi: Rs. 45\\nTea: Rs. 20\\nCoffee: Rs.25\")\n",
    "\n",
    "order_total = 0\n",
    "\n",
    "item1 = input(\"Enter your item to order: \")\n",
    "if item1 in menu:\n",
    "    order_total += menu[item1]\n",
    "    print(f\"Your item {item1} has been added to your order\")\n",
    "else:\n",
    "    print(f\"Ordered item is unavailable\")"
   ]
  },
  {
   "cell_type": "code",
   "execution_count": 5,
   "id": "380366ad",
   "metadata": {},
   "outputs": [
    {
     "name": "stdout",
     "output_type": "stream",
     "text": [
      "Welcome To The Self-Service\n",
      "Dosa: Rs. 40\n",
      "Idli:Rs. 30\n",
      "Chapathi: Rs. 45\n",
      "Tea: Rs. 20\n",
      "Coffee: Rs.25\n",
      "Enter your item to order: Idli\n",
      "Your item Idli has been added to your order\n",
      "Do you want to add another item to your order? (Yes/No) Yes\n",
      "Enter the item you want to add: Tea\n",
      "Item Tea has been added to your order.\n",
      "Your order total is 50\n"
     ]
    }
   ],
   "source": [
    "menu = {'Dosa':40, 'Idli':30, 'Chapathi':45, 'Tea':20, 'Coffee':25}\n",
    "\n",
    "print(\"Welcome To The Self-Service\")\n",
    "print(\"Dosa: Rs. 40\\nIdli:Rs. 30\\nChapathi: Rs. 45\\nTea: Rs. 20\\nCoffee: Rs.25\")\n",
    "\n",
    "order_total = 0\n",
    "\n",
    "item1 = input(\"Enter your item to order: \")\n",
    "if item1 in menu:\n",
    "    order_total += menu[item1]\n",
    "    print(f\"Your item {item1} has been added to your order\")\n",
    "else:\n",
    "    print(f\"Ordered item is unavailable\")\n",
    "    \n",
    "another_order = input(\"Do you want to add another item to your order? (Yes/No) \")\n",
    "if another_order == 'Yes':\n",
    "    item2 = input(\"Enter the item you want to add: \")\n",
    "    if item2 in menu:\n",
    "        order_total += menu[item2]\n",
    "        print(f\"Item {item2} has been added to your order.\")\n",
    "    else:\n",
    "        print(f\"Ordered item {item2} is not available.\")\n",
    "        \n",
    "print(f\"Your order total is {order_total}\")"
   ]
  },
  {
   "cell_type": "code",
   "execution_count": 5,
   "id": "dd600ac3",
   "metadata": {},
   "outputs": [
    {
     "name": "stdout",
     "output_type": "stream",
     "text": [
      "Welcome To The Self-Service\n",
      "Dosa: Rs. 40\n",
      "Idli:Rs. 30\n",
      "Chapathi: Rs. 45\n",
      "Tea: Rs. 20\n",
      "Coffee: Rs.25\n",
      "Enter your item to order: Dosa\n",
      "Your item Dosa has been added to your order\n",
      "Do you want to add another item to your order? (Yes/No) Yes\n",
      "Enter the item you want to add: Dosa\n",
      "Item Dosa has been added to your order.\n",
      "Your order total is 80\n"
     ]
    }
   ],
   "source": [
    "menu = {'Dosa':40, 'Idli':30, 'Chapathi':45, 'Tea':20, 'Coffee':25}\n",
    "\n",
    "print(\"Welcome To The Self-Service\")\n",
    "print(\"Dosa: Rs. 40\\nIdli:Rs. 30\\nChapathi: Rs. 45\\nTea: Rs. 20\\nCoffee: Rs.25\")\n",
    "\n",
    "order_total = 0\n",
    "\n",
    "item1 = input(\"Enter your item to order: \")\n",
    "if item1 in menu:\n",
    "    order_total += menu[item1]\n",
    "    print(f\"Your item {item1} has been added to your order\")\n",
    "else:\n",
    "    print(f\"Ordered item is unavailable\")\n",
    "\n",
    "another_order = input(\"Do you want to add another item to your order? (Yes/No) \")\n",
    "if another_order == 'Yes':\n",
    "    item2 = input(\"Enter the item you want to add: \")\n",
    "    if item2 in menu:\n",
    "        order_total += menu[item2]\n",
    "        print(f\"Item {item2} has been added to your order.\")\n",
    "    else:\n",
    "        print(f\"Ordered item {item2} is not available.\")\n",
    "        \n",
    "print(f\"Your order total is {order_total}\")"
   ]
  }
 ],
 "metadata": {
  "kernelspec": {
   "display_name": "Python 3 (ipykernel)",
   "language": "python",
   "name": "python3"
  },
  "language_info": {
   "codemirror_mode": {
    "name": "ipython",
    "version": 3
   },
   "file_extension": ".py",
   "mimetype": "text/x-python",
   "name": "python",
   "nbconvert_exporter": "python",
   "pygments_lexer": "ipython3",
   "version": "3.10.9"
  }
 },
 "nbformat": 4,
 "nbformat_minor": 5
}
